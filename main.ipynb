{
 "cells": [
  {
   "cell_type": "code",
   "execution_count": 1,
   "id": "c3eec2d3",
   "metadata": {},
   "outputs": [],
   "source": [
    "# Kütüphaneleri yüklüyoruz.\n",
    "import cv2\n",
    "import numpy as np"
   ]
  },
  {
   "cell_type": "code",
   "execution_count": 2,
   "id": "edb26090",
   "metadata": {},
   "outputs": [],
   "source": [
    "from ultralytics import YOLO\n",
    "\n",
    "#yüzleri tespit eden modeli yüklüyoruz\n",
    "model= YOLO(\"face.pt\") \n"
   ]
  },
  {
   "cell_type": "markdown",
   "id": "faef85b7",
   "metadata": {},
   "source": [
    "Yüzleri tespit edip blur ekleyen fonksiyonu tanımlıyoruz"
   ]
  },
  {
   "cell_type": "code",
   "execution_count": 6,
   "id": "3f6c6485",
   "metadata": {},
   "outputs": [],
   "source": [
    "def faceblur(img):\n",
    "    results = model(img,verbose=False) \n",
    "    labels=results[0].names\n",
    "\n",
    "    for i in range(len(results[0].boxes)):\n",
    "        \n",
    "        # Burada ilk tespit edilen yüze blur işlemi uygulanmıyor. Bunu sadece istenilen yüzlere blur işleminin \n",
    "        # uyguanabileceğini göstermek için ekledim. Siz kaldırabilrisiniz bu kısmı\n",
    "        \n",
    "        if i==0:\n",
    "            continue\n",
    "\n",
    "            \n",
    "            \n",
    "        x1,y1,x2,y2=results[0].boxes.xyxy[i]\n",
    "        score=results[0].boxes.conf[i]\n",
    "        label=results[0].boxes.cls[i]\n",
    "        x1,y1,x2,y2,score,label=int(x1),int(y1),int(x2),int(y2),float(score),int(label)\n",
    "        name=labels[label]\n",
    "\n",
    "        if score<0.1:\n",
    "            continue\n",
    "        yeni=img[y1-20:y2,x1-20:x2+20]\n",
    "        yeni =cv2.blur(yeni,(99,99))\n",
    "        img[y1-20:y2,x1-20:x2+20]=yeni\n",
    "    return img"
   ]
  },
  {
   "cell_type": "markdown",
   "id": "d09e0022",
   "metadata": {},
   "source": [
    "Görsel için"
   ]
  },
  {
   "cell_type": "code",
   "execution_count": 7,
   "id": "d4723111",
   "metadata": {},
   "outputs": [],
   "source": [
    "img=cv2.imread('img.jpg')\n",
    "\n",
    "\n",
    "img=faceblur(img)\n",
    "\n",
    "cv2.imshow(\"kamera\",img)\n",
    "\n",
    "# Sonuçları kaydetmek için aşağıdaki satırı çalıştırıyoruz.\n",
    "cv2.imwrite('saved_image.jpg',img)\n",
    "\n",
    "cv2.waitKey()\n",
    "cv2.destroyAllWindows()"
   ]
  },
  {
   "cell_type": "markdown",
   "id": "347e2d91",
   "metadata": {},
   "source": [
    "Video için"
   ]
  },
  {
   "cell_type": "code",
   "execution_count": 5,
   "id": "fd7278a6",
   "metadata": {},
   "outputs": [],
   "source": [
    "\n",
    "kamera= cv2.VideoCapture('video1.mp4')\n",
    "\n",
    "\n",
    "while True:\n",
    "\n",
    "   \n",
    "    \n",
    "    ret,kare=kamera.read()\n",
    "    \n",
    "    if not ret:\n",
    "        break\n",
    "    \n",
    "    kare=faceblur(kare)\n",
    "   \n",
    "    \n",
    "    cv2.imshow(\"kamera\",kare)\n",
    "    if cv2.waitKey(1) & 0xFF == ord('q'):\n",
    "        break\n",
    "kamera.release()\n",
    "cv2.destroyAllWindows()"
   ]
  }
 ],
 "metadata": {
  "kernelspec": {
   "display_name": "Python 3 (ipykernel)",
   "language": "python",
   "name": "python3"
  },
  "language_info": {
   "codemirror_mode": {
    "name": "ipython",
    "version": 3
   },
   "file_extension": ".py",
   "mimetype": "text/x-python",
   "name": "python",
   "nbconvert_exporter": "python",
   "pygments_lexer": "ipython3",
   "version": "3.9.13"
  }
 },
 "nbformat": 4,
 "nbformat_minor": 5
}
